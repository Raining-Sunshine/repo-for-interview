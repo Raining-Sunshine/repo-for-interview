{
 "cells": [
  {
   "cell_type": "code",
   "execution_count": null,
   "id": "addf8c06",
   "metadata": {},
   "outputs": [],
   "source": [
    "#importing all required packages. run these two line on CMD/Powershell if using localhost anaconda,else run it directly on VMs\n",
    "!pip install ultralytics\n",
    "!pip install roboflow"
   ]
  },
  {
   "cell_type": "code",
   "execution_count": 2,
   "id": "b9d0f975-854c-45c6-9c31-34fddb97ad01",
   "metadata": {},
   "outputs": [
    {
     "name": "stdout",
     "output_type": "stream",
     "text": [
      "{'settings_version': '0.0.4', 'datasets_dir': 'D:\\\\Python\\\\datasets', 'weights_dir': 'weights', 'runs_dir': 'runs', 'uuid': 'e3bf297d171c877c405eab53f9d23ea13c20458cc0f1fe0edb22e46296c32ae5', 'sync': True, 'api_key': '', 'openai_api_key': '', 'clearml': True, 'comet': True, 'dvc': True, 'hub': True, 'mlflow': True, 'neptune': True, 'raytune': True, 'tensorboard': True, 'wandb': True}\n"
     ]
    }
   ],
   "source": [
    "import numpy\n",
    "from ultralytics import settings\n",
    "\n",
    "# View all settings\n",
    "print(settings)\n",
    "\n",
    "# Return a specific setting\n",
    "value = settings['runs_dir']"
   ]
  },
  {
   "cell_type": "code",
   "execution_count": null,
   "id": "2219fd7d",
   "metadata": {},
   "outputs": [],
   "source": [
    "'''If need GPU acceleration\n",
    "import torch\n",
    "\n",
    "torch.cuda.set_device(0) # Set to your desired GPU number\n",
    "\n",
    "device = 'cuda' if torch.cuda.is_available() else 'cpu'\n",
    "print(f'Using device: {device}')'''"
   ]
  },
  {
   "cell_type": "code",
   "execution_count": null,
   "id": "eb57b4fc",
   "metadata": {},
   "outputs": [],
   "source": [
    "from roboflow import Roboflow #importing dataset\n",
    "\n",
    "rf = Roboflow(api_key=\"api-key-input\")#directly copy from copied roboflow code, if downloaded on localhost then don't run again.\n",
    "project = rf.workspace(\"convert-to-coco-format\").project(\"project name\")\n",
    "version = project.version(4)\n",
    "dataset = version.download(\"yolov9\")"
   ]
  },
  {
   "cell_type": "code",
   "execution_count": 4,
   "id": "6dbd9ca5-d15e-4611-9ee8-d2e8829ca0c2",
   "metadata": {},
   "outputs": [
    {
     "name": "stdout",
     "output_type": "stream",
     "text": [
      "YOLOv8x summary: 365 layers, 68229648 parameters, 68229632 gradients, 258.5 GFLOPs\n"
     ]
    },
    {
     "data": {
      "text/plain": [
       "(365, 68229648, 68229632, 258.5472512)"
      ]
     },
     "execution_count": 4,
     "metadata": {},
     "output_type": "execute_result"
    }
   ],
   "source": [
    "from ultralytics import YOLO\n",
    "import yaml\n",
    "\n",
    "# Build a YOLOv8x model from scratch\n",
    "model = YOLO(\"yolov8x.yaml\")\n",
    "#if GPU acceleration\n",
    "#model = YOLO('path/to/your/model.pt'/\"yolov8x.yaml\").to(device)\n",
    "\n",
    "# Display model information (optional)\n",
    "model.info()"
   ]
  },
  {
   "cell_type": "code",
   "execution_count": null,
   "id": "977de827",
   "metadata": {},
   "outputs": [],
   "source": [
    "# Train the model on the downloaded example dataset for 50 epochs\n",
    "results = model.train(data=r\"your absolute path of data.yaml file\", epochs=50, imgsz=640) #remember to modify the yaml with text editor first, make sure the relative path of training and validation are correct.\n",
    "#https://docs.ultralytics.com/zh/modes/predict/#inference-sources\n",
    "#results = model.train(data=r\"relative path to data.yaml\", epochs=50, imgsz=640)"
   ]
  },
  {
   "cell_type": "code",
   "execution_count": null,
   "id": "3df4bf4a",
   "metadata": {},
   "outputs": [],
   "source": [
    "# justify the performance on validation set\n",
    "metrics = model.val()  "
   ]
  },
  {
   "cell_type": "code",
   "execution_count": null,
   "id": "b7fa065f",
   "metadata": {},
   "outputs": [],
   "source": [
    "# Run inference with the YOLOv8x model on the 'bus.jpg' image\n",
    "results = model('path/to/bus.jpg') #example of local picture, the path is relative path\n",
    "#results = model(\"https://ultralytics.com/images/bus.jpg\")  # predict web photo"
   ]
  },
  {
   "cell_type": "code",
   "execution_count": null,
   "id": "0cf9f534",
   "metadata": {},
   "outputs": [],
   "source": [
    "#Exporting model\n",
    "success = model.export()  # exporting model to .pt file //https://docs.ultralytics.com/modes/export/#arguments"
   ]
  },
  {
   "cell_type": "code",
   "execution_count": 5,
   "id": "76a37703-071d-4918-9604-506622c3f714",
   "metadata": {},
   "outputs": [
    {
     "name": "stdout",
     "output_type": "stream",
     "text": [
      "Help on method train in module ultralytics.engine.model:\n",
      "\n",
      "train(trainer=None, **kwargs) method of ultralytics.models.yolo.model.YOLO instance\n",
      "    Trains the model using the specified dataset and training configuration.\n",
      "    \n",
      "    This method facilitates model training with a range of customizable settings and configurations. It supports\n",
      "    training with a custom trainer or the default training approach defined in the method. The method handles\n",
      "    different scenarios, such as resuming training from a checkpoint, integrating with Ultralytics HUB, and\n",
      "    updating model and configuration after training.\n",
      "    \n",
      "    When using Ultralytics HUB, if the session already has a loaded model, the method prioritizes HUB training\n",
      "    arguments and issues a warning if local arguments are provided. It checks for pip updates and combines default\n",
      "    configurations, method-specific defaults, and user-provided arguments to configure the training process. After\n",
      "    training, it updates the model and its configurations, and optionally attaches metrics.\n",
      "    \n",
      "    Args:\n",
      "        trainer (BaseTrainer, optional): An instance of a custom trainer class for training the model. If None, the\n",
      "            method uses a default trainer. Defaults to None.\n",
      "        **kwargs (dict): Arbitrary keyword arguments representing the training configuration. These arguments are\n",
      "            used to customize various aspects of the training process.\n",
      "    \n",
      "    Returns:\n",
      "        (dict | None): Training metrics if available and training is successful; otherwise, None.\n",
      "    \n",
      "    Raises:\n",
      "        AssertionError: If the model is not a PyTorch model.\n",
      "        PermissionError: If there is a permission issue with the HUB session.\n",
      "        ModuleNotFoundError: If the HUB SDK is not installed.\n",
      "\n",
      "Help on method export in module ultralytics.engine.model:\n",
      "\n",
      "export(**kwargs) method of ultralytics.models.yolo.model.YOLO instance\n",
      "    Exports the model to a different format suitable for deployment.\n",
      "    \n",
      "    This method facilitates the export of the model to various formats (e.g., ONNX, TorchScript) for deployment\n",
      "    purposes. It uses the 'Exporter' class for the export process, combining model-specific overrides, method\n",
      "    defaults, and any additional arguments provided. The combined arguments are used to configure export settings.\n",
      "    \n",
      "    The method supports a wide range of arguments to customize the export process. For a comprehensive list of all\n",
      "    possible arguments, refer to the 'configuration' section in the documentation.\n",
      "    \n",
      "    Args:\n",
      "        **kwargs (dict): Arbitrary keyword arguments to customize the export process. These are combined with the\n",
      "            model's overrides and method defaults.\n",
      "    \n",
      "    Returns:\n",
      "        (object): The exported model in the specified format, or an object related to the export process.\n",
      "    \n",
      "    Raises:\n",
      "        AssertionError: If the model is not a PyTorch model.\n",
      "\n"
     ]
    }
   ],
   "source": [
    "help(model.train) #check manual\n",
    "help(model.export)"
   ]
  }
 ],
 "metadata": {
  "kernelspec": {
   "display_name": "Python 3 (ipykernel)",
   "language": "python",
   "name": "python3"
  },
  "language_info": {
   "codemirror_mode": {
    "name": "ipython",
    "version": 3
   },
   "file_extension": ".py",
   "mimetype": "text/x-python",
   "name": "python",
   "nbconvert_exporter": "python",
   "pygments_lexer": "ipython3",
   "version": "3.9.18"
  }
 },
 "nbformat": 4,
 "nbformat_minor": 5
}
